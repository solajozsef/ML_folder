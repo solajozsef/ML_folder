{
  "nbformat": 4,
  "nbformat_minor": 0,
  "metadata": {
    "kernelspec": {
      "name": "python3",
      "display_name": "Python 3"
    },
    "language_info": {
      "codemirror_mode": {
        "name": "ipython",
        "version": 3
      },
      "file_extension": ".py",
      "mimetype": "text/x-python",
      "name": "python",
      "nbconvert_exporter": "python",
      "pygments_lexer": "ipython3",
      "version": "3.6.8"
    },
    "colab": {
      "name": "cos(x)_approx_NN.ipynb",
      "provenance": [],
      "collapsed_sections": [],
      "include_colab_link": true
    },
    "accelerator": "GPU"
  },
  "cells": [
    {
      "cell_type": "markdown",
      "metadata": {
        "id": "view-in-github",
        "colab_type": "text"
      },
      "source": [
        "<a href=\"https://colab.research.google.com/github/solajozsef/git_folder_to_practise/blob/main/cos(x)_approx_NN.ipynb\" target=\"_parent\"><img src=\"https://colab.research.google.com/assets/colab-badge.svg\" alt=\"Open In Colab\"/></a>"
      ]
    },
    {
      "cell_type": "code",
      "metadata": {
        "id": "bhvUv6km3Bnm"
      },
      "source": [
        "import numpy as np\n",
        "import pandas as pd\n",
        "import matplotlib.pyplot as plt\n",
        "import random"
      ],
      "execution_count": null,
      "outputs": []
    },
    {
      "cell_type": "code",
      "metadata": {
        "id": "EUaV4Gua3Bnw",
        "colab": {
          "base_uri": "https://localhost:8080/",
          "height": 72
        },
        "outputId": "2d9def39-6b73-4045-ee37-b3e9cf2f1383"
      },
      "source": [
        "# feature matrix X\n",
        "N = 10000\n",
        "X = [random.uniform(-10, 10) for i in range(N)]\n",
        "X = np.sort(X).reshape(-1, 1)\n",
        "X[:3]"
      ],
      "execution_count": null,
      "outputs": [
        {
          "output_type": "execute_result",
          "data": {
            "text/plain": [
              "array([[-9.99981558],\n",
              "       [-9.99548051],\n",
              "       [-9.99448792]])"
            ]
          },
          "metadata": {
            "tags": []
          },
          "execution_count": 2
        }
      ]
    },
    {
      "cell_type": "code",
      "metadata": {
        "id": "XHsR5ydd3Bn8",
        "colab": {
          "base_uri": "https://localhost:8080/",
          "height": 72
        },
        "outputId": "e5c8cda1-dcb5-4f03-8671-f97126e76761"
      },
      "source": [
        "# target vector y\n",
        "y = [np.cos(X[i]) for i in range(N)]\n",
        "y = np.array(y).reshape(-1, 1)\n",
        "y[:3]"
      ],
      "execution_count": null,
      "outputs": [
        {
          "output_type": "execute_result",
          "data": {
            "text/plain": [
              "array([[-0.83917184],\n",
              "       [-0.84152165],\n",
              "       [-0.84205745]])"
            ]
          },
          "metadata": {
            "tags": []
          },
          "execution_count": 3
        }
      ]
    },
    {
      "cell_type": "code",
      "metadata": {
        "id": "-pDoRzXW3BoJ",
        "colab": {
          "base_uri": "https://localhost:8080/",
          "height": 35
        },
        "outputId": "c1ad34e8-04e5-48d6-d1b1-7b3713b92412"
      },
      "source": [
        "X.shape"
      ],
      "execution_count": null,
      "outputs": [
        {
          "output_type": "execute_result",
          "data": {
            "text/plain": [
              "(10000, 1)"
            ]
          },
          "metadata": {
            "tags": []
          },
          "execution_count": 4
        }
      ]
    },
    {
      "cell_type": "code",
      "metadata": {
        "id": "srxETJ4-3BoQ",
        "colab": {
          "base_uri": "https://localhost:8080/",
          "height": 35
        },
        "outputId": "faf15e41-bf64-48bf-9d69-94960544177c"
      },
      "source": [
        "y.shape"
      ],
      "execution_count": null,
      "outputs": [
        {
          "output_type": "execute_result",
          "data": {
            "text/plain": [
              "(10000, 1)"
            ]
          },
          "metadata": {
            "tags": []
          },
          "execution_count": 5
        }
      ]
    },
    {
      "cell_type": "code",
      "metadata": {
        "id": "u9TP5_mm3BoZ"
      },
      "source": [
        "from sklearn import preprocessing"
      ],
      "execution_count": null,
      "outputs": []
    },
    {
      "cell_type": "code",
      "metadata": {
        "id": "DSkWIXCd3Bof",
        "colab": {
          "base_uri": "https://localhost:8080/",
          "height": 35
        },
        "outputId": "48aa12b0-a66a-4b2e-ee02-3245136714a0"
      },
      "source": [
        "min_max_scaler = preprocessing.MinMaxScaler()\n",
        "X_scale = min_max_scaler.fit_transform(X)\n",
        "y_scale = min_max_scaler.fit_transform(y)\n",
        "X_scale.max(),"
      ],
      "execution_count": null,
      "outputs": [
        {
          "output_type": "execute_result",
          "data": {
            "text/plain": [
              "1.0"
            ]
          },
          "metadata": {
            "tags": []
          },
          "execution_count": 8
        }
      ]
    },
    {
      "cell_type": "code",
      "metadata": {
        "id": "Wa9bSoLv3Box"
      },
      "source": [
        "import keras\n",
        "from keras.models import Sequential\n",
        "from keras.layers import Dense\n",
        "from keras import regularizers\n",
        "from keras.optimizers import Adam"
      ],
      "execution_count": null,
      "outputs": []
    },
    {
      "cell_type": "code",
      "metadata": {
        "id": "5wu8crYxA3_F"
      },
      "source": [
        "keras.backend.clear_session()"
      ],
      "execution_count": null,
      "outputs": []
    },
    {
      "cell_type": "code",
      "metadata": {
        "id": "-LPrBVyp3Bo-",
        "colab": {
          "base_uri": "https://localhost:8080/",
          "height": 110
        },
        "outputId": "3c939e15-ef12-4949-8fd1-9b69b8b56616"
      },
      "source": [
        "model = Sequential()\n",
        "model.add(Dense(32, input_shape = (1,), kernel_regularizer=regularizers.l2(0.001), activation='relu'))\n",
        "model.add(Dense(32, activation = 'relu'))\n",
        "model.add(Dense(20, activation = 'relu'))\n",
        "model.add(Dense(1))"
      ],
      "execution_count": null,
      "outputs": [
        {
          "output_type": "stream",
          "text": [
            "WARNING:tensorflow:From /usr/local/lib/python3.6/dist-packages/keras/backend/tensorflow_backend.py:541: The name tf.placeholder is deprecated. Please use tf.compat.v1.placeholder instead.\n",
            "\n",
            "WARNING:tensorflow:From /usr/local/lib/python3.6/dist-packages/keras/backend/tensorflow_backend.py:4432: The name tf.random_uniform is deprecated. Please use tf.random.uniform instead.\n",
            "\n"
          ],
          "name": "stdout"
        }
      ]
    },
    {
      "cell_type": "code",
      "metadata": {
        "id": "G1XYtN_C3BpG",
        "colab": {
          "base_uri": "https://localhost:8080/",
          "height": 74
        },
        "outputId": "f5cbb152-a445-4935-fe02-53745ee92820"
      },
      "source": [
        "# compile the keras model\n",
        "model.compile(loss='mse', optimizer= Adam(), metrics=['accuracy'])\n"
      ],
      "execution_count": null,
      "outputs": [
        {
          "output_type": "stream",
          "text": [
            "WARNING:tensorflow:From /usr/local/lib/python3.6/dist-packages/keras/optimizers.py:793: The name tf.train.Optimizer is deprecated. Please use tf.compat.v1.train.Optimizer instead.\n",
            "\n"
          ],
          "name": "stdout"
        }
      ]
    },
    {
      "cell_type": "code",
      "metadata": {
        "id": "1whI-sgh3BpR",
        "colab": {
          "base_uri": "https://localhost:8080/",
          "height": 1000
        },
        "outputId": "36987ac7-299c-49a4-b17e-5caf78acd6bc"
      },
      "source": [
        "# fit the keras model on the dataset\n",
        "model.fit(X, y, epochs=30, batch_size=30)"
      ],
      "execution_count": null,
      "outputs": [
        {
          "output_type": "stream",
          "text": [
            "Epoch 1/30\n",
            "10000/10000 [==============================] - 1s 149us/step - loss: 0.0011 - acc: 2.0000e-04\n",
            "Epoch 2/30\n",
            "10000/10000 [==============================] - 1s 146us/step - loss: 0.0010 - acc: 2.0000e-04\n",
            "Epoch 3/30\n",
            "10000/10000 [==============================] - 2s 153us/step - loss: 9.9757e-04 - acc: 2.0000e-04\n",
            "Epoch 4/30\n",
            "10000/10000 [==============================] - 1s 150us/step - loss: 0.0012 - acc: 2.0000e-04\n",
            "Epoch 5/30\n",
            "10000/10000 [==============================] - 1s 145us/step - loss: 0.0015 - acc: 2.0000e-04\n",
            "Epoch 6/30\n",
            "10000/10000 [==============================] - 1s 143us/step - loss: 9.4585e-04 - acc: 2.0000e-04\n",
            "Epoch 7/30\n",
            "10000/10000 [==============================] - 1s 147us/step - loss: 9.3171e-04 - acc: 2.0000e-04\n",
            "Epoch 8/30\n",
            "10000/10000 [==============================] - 1s 143us/step - loss: 0.0011 - acc: 2.0000e-04\n",
            "Epoch 9/30\n",
            "10000/10000 [==============================] - 1s 146us/step - loss: 9.9490e-04 - acc: 2.0000e-04\n",
            "Epoch 10/30\n",
            "10000/10000 [==============================] - 2s 151us/step - loss: 8.4801e-04 - acc: 2.0000e-04\n",
            "Epoch 11/30\n",
            "10000/10000 [==============================] - 1s 144us/step - loss: 9.3532e-04 - acc: 2.0000e-04\n",
            "Epoch 12/30\n",
            "10000/10000 [==============================] - 1s 145us/step - loss: 0.0011 - acc: 2.0000e-04\n",
            "Epoch 13/30\n",
            "10000/10000 [==============================] - 1s 144us/step - loss: 9.6668e-04 - acc: 2.0000e-04\n",
            "Epoch 14/30\n",
            "10000/10000 [==============================] - 1s 144us/step - loss: 0.0010 - acc: 2.0000e-04\n",
            "Epoch 15/30\n",
            "10000/10000 [==============================] - 1s 146us/step - loss: 0.0014 - acc: 2.0000e-04\n",
            "Epoch 16/30\n",
            "10000/10000 [==============================] - 1s 146us/step - loss: 8.0621e-04 - acc: 2.0000e-04\n",
            "Epoch 17/30\n",
            "10000/10000 [==============================] - 1s 150us/step - loss: 7.7901e-04 - acc: 2.0000e-04\n",
            "Epoch 18/30\n",
            "10000/10000 [==============================] - 1s 146us/step - loss: 7.5547e-04 - acc: 2.0000e-04\n",
            "Epoch 19/30\n",
            "10000/10000 [==============================] - 1s 146us/step - loss: 0.0012 - acc: 2.0000e-04\n",
            "Epoch 20/30\n",
            "10000/10000 [==============================] - 1s 144us/step - loss: 7.2077e-04 - acc: 2.0000e-04\n",
            "Epoch 21/30\n",
            "10000/10000 [==============================] - 1s 145us/step - loss: 8.8452e-04 - acc: 2.0000e-04\n",
            "Epoch 22/30\n",
            "10000/10000 [==============================] - 1s 148us/step - loss: 7.7111e-04 - acc: 2.0000e-04\n",
            "Epoch 23/30\n",
            "10000/10000 [==============================] - 1s 144us/step - loss: 7.9101e-04 - acc: 2.0000e-04\n",
            "Epoch 24/30\n",
            "10000/10000 [==============================] - 1s 144us/step - loss: 7.7168e-04 - acc: 2.0000e-04\n",
            "Epoch 25/30\n",
            "10000/10000 [==============================] - 1s 145us/step - loss: 8.4785e-04 - acc: 2.0000e-04\n",
            "Epoch 26/30\n",
            "10000/10000 [==============================] - 2s 153us/step - loss: 7.2071e-04 - acc: 2.0000e-04\n",
            "Epoch 27/30\n",
            "10000/10000 [==============================] - 1s 145us/step - loss: 6.5969e-04 - acc: 2.0000e-04\n",
            "Epoch 28/30\n",
            "10000/10000 [==============================] - 1s 148us/step - loss: 7.3945e-04 - acc: 2.0000e-04\n",
            "Epoch 29/30\n",
            "10000/10000 [==============================] - 1s 149us/step - loss: 9.2425e-04 - acc: 2.0000e-04\n",
            "Epoch 30/30\n",
            "10000/10000 [==============================] - 1s 148us/step - loss: 9.5269e-04 - acc: 2.0000e-04\n"
          ],
          "name": "stdout"
        },
        {
          "output_type": "execute_result",
          "data": {
            "text/plain": [
              "<keras.callbacks.History at 0x7f7f4bbb2ba8>"
            ]
          },
          "metadata": {
            "tags": []
          },
          "execution_count": 20
        }
      ]
    },
    {
      "cell_type": "code",
      "metadata": {
        "id": "qlKv9vCg3BpX"
      },
      "source": [
        "# evaluate the keras model\n",
        "# no point to evaluate an approximation\n",
        "#_, accuracy = model.evaluate(X_scale, y_scale)\n",
        "#print('Accuracy: %.2f' % (accuracy*100))"
      ],
      "execution_count": null,
      "outputs": []
    },
    {
      "cell_type": "code",
      "metadata": {
        "id": "PWTnVII9HK2_",
        "colab": {
          "base_uri": "https://localhost:8080/",
          "height": 279
        },
        "outputId": "1ad8c8e3-5a22-4b01-eb2f-14d4f59a9dfa"
      },
      "source": [
        "# plotting the curves\n",
        "import matplotlib.pylab as plt\n",
        "\n",
        "pred = model.predict(X)\n",
        "\n",
        "plt.plot(X, y, 'r-')\n",
        "plt.plot(X, pred, 'b--')\n",
        "\n",
        "plt.xlabel('Angle [rad]')\n",
        "plt.ylabel('sin(x)')\n",
        "plt.axis('tight')\n",
        "plt.show()"
      ],
      "execution_count": null,
      "outputs": [
        {
          "output_type": "display_data",
          "data": {
            "image/png": "[encoded data removed]",
            "text/plain": [
              "<Figure size 432x288 with 1 Axes>"
            ]
          },
          "metadata": {
            "tags": []
          }
        }
      ]
    },
    {
      "cell_type": "code",
      "metadata": {
        "id": "PPol79Tc3Bpd",
        "colab": {
          "base_uri": "https://localhost:8080/",
          "height": 34
        },
        "outputId": "6a79be46-ec3c-478a-c39c-0bb5fb1357bf"
      },
      "source": [
        "np.sin(-5)\n"
      ],
      "execution_count": null,
      "outputs": [
        {
          "output_type": "execute_result",
          "data": {
            "text/plain": [
              "0.9589242746631385"
            ]
          },
          "metadata": {
            "tags": []
          },
          "execution_count": 200
        }
      ]
    },
    {
      "cell_type": "code",
      "metadata": {
        "id": "ywdQnMGg3Bpk",
        "colab": {
          "base_uri": "https://localhost:8080/",
          "height": 35
        },
        "outputId": "06b8228f-21fb-42df-d24e-19e4464d3815"
      },
      "source": [
        "# check some predictions:\n",
        "model.predict([-5])"
      ],
      "execution_count": null,
      "outputs": [
        {
          "output_type": "execute_result",
          "data": {
            "text/plain": [
              "array([[0.9624642]], dtype=float32)"
            ]
          },
          "metadata": {
            "tags": []
          },
          "execution_count": 201
        }
      ]
    },
    {
      "cell_type": "code",
      "metadata": {
        "id": "rFi-WCzu3Bpr"
      },
      "source": [
        "# make probability predictions with the model\n",
        "predictions = model.predict(X)\n",
        "# round predictions \n",
        "rounded = [round(x[0]) for x in predictions]"
      ],
      "execution_count": null,
      "outputs": []
    },
    {
      "cell_type": "code",
      "metadata": {
        "id": "ko6Hvzh7DaGA",
        "colab": {
          "base_uri": "https://localhost:8080/",
          "height": 283
        },
        "outputId": "7bdca4a9-c4d6-4f1a-a86d-9d47373541e9"
      },
      "source": [
        "import matplotlib.pylab as plt\n",
        "\n",
        "pred = model.predict(X)\n",
        "\n",
        "plt.plot(X, y, 'r-')\n",
        "#plt.plot(X, pred, 'b--')\n",
        "\n",
        "\n",
        "plt.xlabel('Angle [rad]')\n",
        "plt.ylabel('sin(x)')\n",
        "plt.axis('tight')\n",
        "plt.show()"
      ],
      "execution_count": null,
      "outputs": [
        {
          "output_type": "display_data",
          "data": {
            "image/png": "[encoded data removed]",
            "text/plain": [
              "<Figure size 432x288 with 1 Axes>"
            ]
          },
          "metadata": {
            "tags": []
          }
        }
      ]
    },
    {
      "cell_type": "code",
      "metadata": {
        "id": "-68NFHPAFy3G",
        "colab": {
          "base_uri": "https://localhost:8080/",
          "height": 35
        },
        "outputId": "ab490510-0af4-494b-803e-1c14e31ae214"
      },
      "source": [
        "type(pred)"
      ],
      "execution_count": null,
      "outputs": [
        {
          "output_type": "execute_result",
          "data": {
            "text/plain": [
              "numpy.ndarray"
            ]
          },
          "metadata": {
            "tags": []
          },
          "execution_count": 173
        }
      ]
    },
    {
      "cell_type": "code",
      "metadata": {
        "id": "FTF3Z66NDakF"
      },
      "source": [
        ""
      ],
      "execution_count": null,
      "outputs": []
    },
    {
      "cell_type": "markdown",
      "metadata": {
        "id": "DJj0bNnY3Bpx"
      },
      "source": [
        "model.predict([22])"
      ]
    },
    {
      "cell_type": "code",
      "metadata": {
        "id": "izgbzPG43Bp4"
      },
      "source": [
        ""
      ],
      "execution_count": null,
      "outputs": []
    },
    {
      "cell_type": "code",
      "metadata": {
        "id": "k5mODn8F7lHE"
      },
      "source": [
        ""
      ],
      "execution_count": null,
      "outputs": []
    },
    {
      "cell_type": "markdown",
      "metadata": {
        "id": "4kCU4Z_N7h0H"
      },
      "source": [
        ""
      ]
    },
    {
      "cell_type": "markdown",
      "metadata": {
        "id": "rJMSXfb5-UaM"
      },
      "source": [
        ""
      ]
    },
    {
      "cell_type": "markdown",
      "metadata": {
        "id": "JwPKVUIU8zD0"
      },
      "source": [
        "N = 5000\n",
        "X = [random.uniform(-10, 10) for i in range(N)]\n",
        "X = np.sort(X).reshape(-1, 1)\n",
        "X[:5]"
      ]
    },
    {
      "cell_type": "code",
      "metadata": {
        "id": "2EFLvSpf7iVQ"
      },
      "source": [
        ""
      ],
      "execution_count": null,
      "outputs": []
    }
  ]
}