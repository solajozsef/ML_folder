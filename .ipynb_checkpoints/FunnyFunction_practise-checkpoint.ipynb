{
 "cells": [
  {
   "cell_type": "markdown",
   "metadata": {},
   "source": [
    "## Function approximation"
   ]
  },
  {
   "cell_type": "markdown",
   "metadata": {},
   "source": [
    "The aim of this little notebook is to show the power of neural network modelling. \n",
    "\n",
    "We pick an arbitrary function and by choosing many points of this function we teach the model the reproduce any point in the function."
   ]
  },
  {
   "cell_type": "markdown",
   "metadata": {},
   "source": [
    "The function we use can be seen below:"
   ]
  },
  {
   "cell_type": "markdown",
   "metadata": {
    "id": "2dczCOw_pcYd"
   },
   "source": [
    "f(x)=0.2+0.4x2+0.3xsin(15x)+0.05cos(50x), \n",
    "\n",
    "which can be represented in the following form in python:\n",
    "\n",
    "0.2 + 0.4 * X**2 + 0.3 * X * np.sin(15*X) + 0.05 * np.cos(50*X)   "
   ]
  },
  {
   "cell_type": "markdown",
   "metadata": {},
   "source": [
    "In order to produce multiple outputs from one code cell we need the following code block:"
   ]
  },
  {
   "cell_type": "code",
   "execution_count": 1,
   "metadata": {
    "id": "C15C5oddr7v1"
   },
   "outputs": [],
   "source": [
    "from IPython.core.interactiveshell import InteractiveShell\n",
    "InteractiveShell.ast_node_interactivity = \"all\""
   ]
  },
  {
   "cell_type": "markdown",
   "metadata": {},
   "source": [
    "We import the necessary python modules like so:"
   ]
  },
  {
   "cell_type": "code",
   "execution_count": 2,
   "metadata": {
    "id": "bhvUv6km3Bnm"
   },
   "outputs": [],
   "source": [
    "import numpy as np\n",
    "import pandas as pd\n",
    "import matplotlib.pyplot as plt\n",
    "import random "
   ]
  },
  {
   "cell_type": "code",
   "execution_count": 3,
   "metadata": {},
   "outputs": [],
   "source": [
    "pd.options.display.max_rows = 15"
   ]
  },
  {
   "cell_type": "markdown",
   "metadata": {},
   "source": [
    "To see what happened."
   ]
  },
  {
   "cell_type": "code",
   "execution_count": 4,
   "metadata": {},
   "outputs": [
    {
     "data": {
      "text/plain": [
       "1089"
      ]
     },
     "execution_count": 4,
     "metadata": {},
     "output_type": "execute_result"
    }
   ],
   "source": [
    "33**2"
   ]
  },
  {
   "cell_type": "code",
   "execution_count": 7,
   "metadata": {},
   "outputs": [
    {
     "data": {
      "text/plain": [
       "66"
      ]
     },
     "execution_count": 7,
     "metadata": {},
     "output_type": "execute_result"
    }
   ],
   "source": [
    "11+22+33"
   ]
  },
  {
   "cell_type": "markdown",
   "metadata": {},
   "source": [
    "Since we use the keras module of python for computation we have to prepare the data in correct form for input. \n",
    "\n",
    "We generate 20000 random numbers between 0 and 1 - these are going to be the elements of the feature matrix X."
   ]
  },
  {
   "cell_type": "code",
   "execution_count": 10,
   "metadata": {
    "colab": {
     "base_uri": "https://localhost:8080/"
    },
    "id": "EUaV4Gua3Bnw",
    "outputId": "eca6c34b-4a55-4d90-f84f-ca09de522682"
   },
   "outputs": [
    {
     "data": {
      "text/plain": [
       "array([[4.04934005e-05],\n",
       "       [1.39967513e-04],\n",
       "       [1.47775577e-04]])"
      ]
     },
     "execution_count": 10,
     "metadata": {},
     "output_type": "execute_result"
    },
    {
     "data": {
      "text/plain": [
       "(20000, 1)"
      ]
     },
     "execution_count": 10,
     "metadata": {},
     "output_type": "execute_result"
    }
   ],
   "source": [
    "# feature matrix X\n",
    "N = 20000\n",
    "X = [random.uniform(0, 1) for i in range(N)]\n",
    "X = np.sort(X).reshape(-1, 1)\n",
    "X[:3]\n",
    "X.shape"
   ]
  },
  {
   "cell_type": "markdown",
   "metadata": {},
   "source": [
    "The target vector y represents the function value at given X and is calculated the following way."
   ]
  },
  {
   "cell_type": "code",
   "execution_count": 11,
   "metadata": {
    "colab": {
     "base_uri": "https://localhost:8080/"
    },
    "id": "XHsR5ydd3Bn8",
    "outputId": "1695eedd-9c70-4ded-a0b4-8f630764d9ba"
   },
   "outputs": [
    {
     "data": {
      "text/plain": [
       "array([[0.24999991],\n",
       "       [0.24999887],\n",
       "       [0.24999874]])"
      ]
     },
     "execution_count": 11,
     "metadata": {},
     "output_type": "execute_result"
    },
    {
     "data": {
      "text/plain": [
       "(20000, 1)"
      ]
     },
     "execution_count": 11,
     "metadata": {},
     "output_type": "execute_result"
    }
   ],
   "source": [
    "# target vector y\n",
    "y = [0.2 + 0.4 * X**2 + 0.3 * X * np.sin(15*X) + 0.05 * np.cos(50*X) for i in range(1)]\n",
    "y = np.array(y).reshape(-1, 1)\n",
    "y[:3]\n",
    "y.shape"
   ]
  },
  {
   "cell_type": "markdown",
   "metadata": {},
   "source": [
    "<br>We can take a look at what our function looks like by using the matplotlib module.<br>"
   ]
  },
  {
   "cell_type": "code",
   "execution_count": 12,
   "metadata": {
    "colab": {
     "base_uri": "https://localhost:8080/",
     "height": 352
    },
    "id": "GqCW_1nW3BoD",
    "outputId": "7e0723aa-28e8-4446-929c-6203406ddddf"
   },
   "outputs": [
    {
     "data": {
      "text/plain": [
       "[<matplotlib.lines.Line2D at 0x7f09a1e34fa0>]"
      ]
     },
     "execution_count": 12,
     "metadata": {},
     "output_type": "execute_result"
    },
    {
     "data": {
      "text/plain": [
       "Text(0.5, 0, 'X')"
      ]
     },
     "execution_count": 12,
     "metadata": {},
     "output_type": "execute_result"
    },
    {
     "data": {
      "text/plain": [
       "Text(0, 0.5, 'y')"
      ]
     },
     "execution_count": 12,
     "metadata": {},
     "output_type": "execute_result"
    },
    {
     "data": {
      "text/plain": [
       "(-0.049954509348106774,\n",
       " 1.0499355511221007,\n",
       " 0.057340526561052305,\n",
       " 0.8907500511705395)"
      ]
     },
     "execution_count": 12,
     "metadata": {},
     "output_type": "execute_result"
    },
    {
     "data": {
      "image/png": "[encoded data removed]",
      "text/plain": [
       "<Figure size 432x288 with 1 Axes>"
      ]
     },
     "metadata": {
      "needs_background": "light"
     },
     "output_type": "display_data"
    }
   ],
   "source": [
    "plt.plot(X, y, 'r-')\n",
    "\n",
    "plt.xlabel('X')\n",
    "plt.ylabel('y')\n",
    "plt.axis('tight')\n",
    "plt.show()"
   ]
  },
  {
   "cell_type": "code",
   "execution_count": 13,
   "metadata": {
    "id": "u9TP5_mm3BoZ"
   },
   "outputs": [],
   "source": [
    "from sklearn import preprocessing"
   ]
  },
  {
   "cell_type": "code",
   "execution_count": 14,
   "metadata": {},
   "outputs": [],
   "source": [
    "import tensorflow as tf\n",
    "from tensorflow import keras\n",
    "from tensorflow.keras import layers # new block"
   ]
  },
  {
   "cell_type": "code",
   "execution_count": 15,
   "metadata": {
    "id": "YO9Z8rM73Bom"
   },
   "outputs": [],
   "source": [
    "from keras.models import Sequential\n",
    "from keras.layers import Dense\n",
    "from keras import regularizers\n",
    "from keras.optimizers import Adam"
   ]
  },
  {
   "cell_type": "markdown",
   "metadata": {},
   "source": [
    "We decide what our model should look like. Three hidden layers are constructed with neuron numbers of 100, 32, 32 respectively. The shape of the input data is given as an argument on the first hidden layer."
   ]
  },
  {
   "cell_type": "code",
   "execution_count": 16,
   "metadata": {},
   "outputs": [],
   "source": [
    "model = Sequential()\n",
    "model.add(Dense(100, input_shape = (1,), kernel_regularizer=regularizers.l2(0.001), activation='relu'))\n",
    "model.add(Dense(32, activation = 'relu'))\n",
    "model.add(Dense(32, activation = 'relu'))\n",
    "model.add(Dense(1))"
   ]
  },
  {
   "cell_type": "markdown",
   "metadata": {},
   "source": [
    "I leave the following code cell in the notebook although it's only needed if we want to delete the model and the tensorflow graph underneath and start over again."
   ]
  },
  {
   "cell_type": "raw",
   "metadata": {},
   "source": [
    "del model\n",
    "tf.keras.backend.clear_session()"
   ]
  },
  {
   "cell_type": "markdown",
   "metadata": {},
   "source": [
    "<br>The model is actualy put together in the cell below.<br>"
   ]
  },
  {
   "cell_type": "code",
   "execution_count": 17,
   "metadata": {
    "id": "G1XYtN_C3BpG"
   },
   "outputs": [],
   "source": [
    "model.compile(loss='mse', optimizer= Adam(), metrics=['accuracy'])"
   ]
  },
  {
   "cell_type": "markdown",
   "metadata": {},
   "source": [
    "<br>The model and the dataset meet for the first time below and fine tuning is going to take place. The training process will run for a fixed number of iterations through the dataset called epochs, that we must specify using the epochs argument.<br>"
   ]
  },
  {
   "cell_type": "code",
   "execution_count": 18,
   "metadata": {
    "colab": {
     "base_uri": "https://localhost:8080/"
    },
    "id": "1whI-sgh3BpR",
    "outputId": "c7b37d5f-792a-461f-8754-f947d5f779e6"
   },
   "outputs": [
    {
     "name": "stdout",
     "output_type": "stream",
     "text": [
      "Epoch 1/2\n",
      "667/667 [==============================] - 1s 1ms/step - loss: 0.0271 - accuracy: 0.0000e+00\n",
      "Epoch 2/2\n",
      "667/667 [==============================] - 1s 1ms/step - loss: 0.0135 - accuracy: 0.0000e+00\n"
     ]
    },
    {
     "data": {
      "text/plain": [
       "<tensorflow.python.keras.callbacks.History at 0x7f095044e8e0>"
      ]
     },
     "execution_count": 18,
     "metadata": {},
     "output_type": "execute_result"
    }
   ],
   "source": [
    "# fit the keras model on the dataset\n",
    "model.fit(X, y, epochs=2, batch_size=30)"
   ]
  },
  {
   "cell_type": "markdown",
   "metadata": {},
   "source": [
    "<br>After the fitting process is over we can have a look at how close the model predictions are to our function.<br>We use the same data set base X for this.<br> red line: our original function <br> blue dotted line: model predictions<br><br>Number of epochs means number of iterations over the complete data set.<br><br>After 2 epochs our model prediction is far away from reality.<br>"
   ]
  },
  {
   "cell_type": "code",
   "execution_count": 20,
   "metadata": {
    "colab": {
     "base_uri": "https://localhost:8080/",
     "height": 352
    },
    "id": "PWTnVII9HK2_",
    "outputId": "ebb4f041-66a2-4777-b366-924d9fb2d720"
   },
   "outputs": [
    {
     "data": {
      "text/plain": [
       "[<matplotlib.lines.Line2D at 0x7f09483a0640>]"
      ]
     },
     "execution_count": 20,
     "metadata": {},
     "output_type": "execute_result"
    },
    {
     "data": {
      "text/plain": [
       "[<matplotlib.lines.Line2D at 0x7f09483a09a0>]"
      ]
     },
     "execution_count": 20,
     "metadata": {},
     "output_type": "execute_result"
    },
    {
     "data": {
      "text/plain": [
       "Text(0.5, 0, 'Angle [rad]')"
      ]
     },
     "execution_count": 20,
     "metadata": {},
     "output_type": "execute_result"
    },
    {
     "data": {
      "text/plain": [
       "Text(0, 0.5, 'sin(x)')"
      ]
     },
     "execution_count": 20,
     "metadata": {},
     "output_type": "execute_result"
    },
    {
     "data": {
      "text/plain": [
       "(-0.049954509348106774,\n",
       " 1.0499355511221007,\n",
       " 0.05133994309391443,\n",
       " 1.0167623039804348)"
      ]
     },
     "execution_count": 20,
     "metadata": {},
     "output_type": "execute_result"
    },
    {
     "data": {
      "image/png": "[encoded data removed]",
      "text/plain": [
       "<Figure size 432x288 with 1 Axes>"
      ]
     },
     "metadata": {
      "needs_background": "light"
     },
     "output_type": "display_data"
    }
   ],
   "source": [
    "# plotting the curves\n",
    "import matplotlib.pylab as plt\n",
    "\n",
    "pred = model.predict(X)\n",
    "\n",
    "plt.plot(X, y, 'r-')\n",
    "plt.plot(X, pred, 'b--')\n",
    "\n",
    "\n",
    "plt.xlabel('Angle [rad]')\n",
    "plt.ylabel('sin(x)')\n",
    "plt.axis('tight')\n",
    "plt.show()"
   ]
  },
  {
   "cell_type": "markdown",
   "metadata": {},
   "source": [
    "<br>Let'do another run with 20 epochs.<br>"
   ]
  },
  {
   "cell_type": "code",
   "execution_count": 21,
   "metadata": {
    "colab": {
     "base_uri": "https://localhost:8080/"
    },
    "id": "1whI-sgh3BpR",
    "outputId": "c7b37d5f-792a-461f-8754-f947d5f779e6",
    "scrolled": true
   },
   "outputs": [
    {
     "name": "stdout",
     "output_type": "stream",
     "text": [
      "Epoch 1/20\n",
      "667/667 [==============================] - 1s 1ms/step - loss: 0.0029 - accuracy: 0.0000e+00\n",
      "Epoch 2/20\n",
      "667/667 [==============================] - 1s 1ms/step - loss: 0.0021 - accuracy: 0.0000e+00\n",
      "Epoch 3/20\n",
      "667/667 [==============================] - 1s 1ms/step - loss: 0.0018 - accuracy: 0.0000e+00\n",
      "Epoch 4/20\n",
      "667/667 [==============================] - 1s 1ms/step - loss: 0.0014 - accuracy: 0.0000e+00\n",
      "Epoch 5/20\n",
      "667/667 [==============================] - 1s 1ms/step - loss: 0.0013 - accuracy: 0.0000e+00\n",
      "Epoch 6/20\n",
      "667/667 [==============================] - 1s 1ms/step - loss: 0.0012 - accuracy: 0.0000e+00\n",
      "Epoch 7/20\n",
      "667/667 [==============================] - 1s 1ms/step - loss: 0.0011 - accuracy: 0.0000e+00\n",
      "Epoch 8/20\n",
      "667/667 [==============================] - 1s 1ms/step - loss: 9.7160e-04 - accuracy: 0.0000e+00\n",
      "Epoch 9/20\n",
      "667/667 [==============================] - 1s 1ms/step - loss: 9.5129e-04 - accuracy: 0.0000e+00\n",
      "Epoch 10/20\n",
      "667/667 [==============================] - 1s 1ms/step - loss: 8.5571e-04 - accuracy: 0.0000e+00\n",
      "Epoch 11/20\n",
      "667/667 [==============================] - 1s 1ms/step - loss: 7.8452e-04 - accuracy: 0.0000e+00\n",
      "Epoch 12/20\n",
      "667/667 [==============================] - 1s 1ms/step - loss: 7.5020e-04 - accuracy: 0.0000e+00\n",
      "Epoch 13/20\n",
      "667/667 [==============================] - 1s 1ms/step - loss: 7.1349e-04 - accuracy: 0.0000e+00\n",
      "Epoch 14/20\n",
      "667/667 [==============================] - 1s 1ms/step - loss: 7.2076e-04 - accuracy: 0.0000e+00\n",
      "Epoch 15/20\n",
      "667/667 [==============================] - 1s 1ms/step - loss: 6.9851e-04 - accuracy: 0.0000e+00\n",
      "Epoch 16/20\n",
      "667/667 [==============================] - 1s 1ms/step - loss: 7.0811e-04 - accuracy: 0.0000e+00\n",
      "Epoch 17/20\n",
      "667/667 [==============================] - 1s 1ms/step - loss: 6.7135e-04 - accuracy: 0.0000e+00\n",
      "Epoch 18/20\n",
      "667/667 [==============================] - 1s 1ms/step - loss: 6.6270e-04 - accuracy: 0.0000e+00\n",
      "Epoch 19/20\n",
      "667/667 [==============================] - 1s 1ms/step - loss: 6.8176e-04 - accuracy: 0.0000e+00\n",
      "Epoch 20/20\n",
      "667/667 [==============================] - 1s 1ms/step - loss: 6.4422e-04 - accuracy: 0.0000e+00\n"
     ]
    },
    {
     "data": {
      "text/plain": [
       "<tensorflow.python.keras.callbacks.History at 0x7f0951cd74c0>"
      ]
     },
     "execution_count": 21,
     "metadata": {},
     "output_type": "execute_result"
    }
   ],
   "source": [
    "# fit the keras model on the dataset\n",
    "model.fit(X, y, epochs=20, batch_size=30)"
   ]
  },
  {
   "cell_type": "markdown",
   "metadata": {},
   "source": [
    "After another 20 iterations the result is still not satisfactory."
   ]
  },
  {
   "cell_type": "code",
   "execution_count": 22,
   "metadata": {
    "colab": {
     "base_uri": "https://localhost:8080/",
     "height": 352
    },
    "id": "PPol79Tc3Bpd",
    "outputId": "4825f320-354b-4b27-952e-05c1629f0181"
   },
   "outputs": [
    {
     "data": {
      "text/plain": [
       "[<matplotlib.lines.Line2D at 0x7f0952382c70>]"
      ]
     },
     "execution_count": 22,
     "metadata": {},
     "output_type": "execute_result"
    },
    {
     "data": {
      "text/plain": [
       "[<matplotlib.lines.Line2D at 0x7f0952381100>]"
      ]
     },
     "execution_count": 22,
     "metadata": {},
     "output_type": "execute_result"
    },
    {
     "data": {
      "text/plain": [
       "Text(0.5, 0, 'Angle [rad]')"
      ]
     },
     "execution_count": 22,
     "metadata": {},
     "output_type": "execute_result"
    },
    {
     "data": {
      "text/plain": [
       "Text(0, 0.5, 'sin(x)')"
      ]
     },
     "execution_count": 22,
     "metadata": {},
     "output_type": "execute_result"
    },
    {
     "data": {
      "text/plain": [
       "(-0.049954509348106774,\n",
       " 1.0499355511221007,\n",
       " 0.05694359926666681,\n",
       " 0.8990855243526348)"
      ]
     },
     "execution_count": 22,
     "metadata": {},
     "output_type": "execute_result"
    },
    {
     "data": {
      "image/png": "[encoded data removed]",
      "text/plain": [
       "<Figure size 432x288 with 1 Axes>"
      ]
     },
     "metadata": {
      "needs_background": "light"
     },
     "output_type": "display_data"
    }
   ],
   "source": [
    "import matplotlib.pyplot as plt\n",
    "\n",
    "pred = model.predict(X)\n",
    "\n",
    "plt.plot(X, y, 'r-')\n",
    "plt.plot(X, pred, 'b--')\n",
    "\n",
    "\n",
    "plt.xlabel('Angle [rad]')\n",
    "plt.ylabel('sin(x)')\n",
    "plt.axis('tight')\n",
    "plt.show()"
   ]
  },
  {
   "cell_type": "markdown",
   "metadata": {},
   "source": [
    "<br>To cut the long story short we need much more iterations to get decent results.<br>"
   ]
  },
  {
   "cell_type": "code",
   "execution_count": 169,
   "metadata": {
    "id": "sKi2k7AVGeqK"
   },
   "outputs": [
    {
     "name": "stdout",
     "output_type": "stream",
     "text": [
      "Epoch 1/200\n",
      "667/667 [==============================] - 1s 1ms/step - loss: 6.3051e-04 - accuracy: 0.0000e+00\n",
      "Epoch 2/200\n",
      "667/667 [==============================] - 1s 1ms/step - loss: 6.0681e-04 - accuracy: 0.0000e+00\n",
      "Epoch 3/200\n",
      "667/667 [==============================] - 1s 1ms/step - loss: 5.3327e-04 - accuracy: 0.0000e+00\n",
      "Epoch 4/200\n",
      "667/667 [==============================] - 1s 1ms/step - loss: 5.4756e-04 - accuracy: 0.0000e+00\n",
      "Epoch 5/200\n",
      "667/667 [==============================] - 1s 1ms/step - loss: 4.7419e-04 - accuracy: 0.0000e+00\n",
      "Epoch 6/200\n",
      "667/667 [==============================] - 1s 1ms/step - loss: 4.6172e-04 - accuracy: 0.0000e+00\n",
      "Epoch 7/200\n",
      "667/667 [==============================] - 1s 1ms/step - loss: 4.9066e-04 - accuracy: 0.0000e+00\n",
      "Epoch 8/200\n",
      "667/667 [==============================] - 1s 1ms/step - loss: 3.8902e-04 - accuracy: 0.0000e+00\n",
      "Epoch 9/200\n",
      "667/667 [==============================] - 1s 1ms/step - loss: 4.3791e-04 - accuracy: 0.0000e+00\n",
      "Epoch 10/200\n",
      "667/667 [==============================] - 1s 1ms/step - loss: 4.2396e-04 - accuracy: 0.0000e+00\n",
      "Epoch 11/200\n",
      "667/667 [==============================] - 1s 1ms/step - loss: 3.7541e-04 - accuracy: 0.0000e+00\n",
      "Epoch 12/200\n",
      "667/667 [==============================] - 1s 1ms/step - loss: 4.9046e-04 - accuracy: 0.0000e+00\n",
      "Epoch 13/200\n",
      "667/667 [==============================] - 1s 1ms/step - loss: 4.3254e-04 - accuracy: 0.0000e+00\n",
      "Epoch 14/200\n",
      "667/667 [==============================] - 1s 1ms/step - loss: 4.2999e-04 - accuracy: 0.0000e+00\n",
      "Epoch 15/200\n",
      "667/667 [==============================] - 1s 1ms/step - loss: 3.5028e-04 - accuracy: 0.0000e+00\n",
      "Epoch 16/200\n",
      "667/667 [==============================] - 1s 1ms/step - loss: 3.4692e-04 - accuracy: 0.0000e+00\n",
      "Epoch 17/200\n",
      "667/667 [==============================] - 1s 1ms/step - loss: 4.3368e-04 - accuracy: 0.0000e+00\n",
      "Epoch 18/200\n",
      "667/667 [==============================] - 1s 1ms/step - loss: 3.4180e-04 - accuracy: 0.0000e+00\n",
      "Epoch 19/200\n",
      "667/667 [==============================] - 1s 1ms/step - loss: 3.4220e-04 - accuracy: 0.0000e+00\n",
      "Epoch 20/200\n",
      "667/667 [==============================] - 1s 1ms/step - loss: 3.8383e-04 - accuracy: 0.0000e+00\n",
      "Epoch 21/200\n",
      "667/667 [==============================] - 1s 1ms/step - loss: 3.3785e-04 - accuracy: 0.0000e+00\n",
      "Epoch 22/200\n",
      "667/667 [==============================] - 1s 1ms/step - loss: 2.8624e-04 - accuracy: 0.0000e+00\n",
      "Epoch 23/200\n",
      "667/667 [==============================] - 1s 1ms/step - loss: 3.5616e-04 - accuracy: 0.0000e+00\n",
      "Epoch 24/200\n",
      "667/667 [==============================] - 1s 2ms/step - loss: 2.9598e-04 - accuracy: 0.0000e+00\n",
      "Epoch 25/200\n",
      "667/667 [==============================] - 1s 1ms/step - loss: 2.6321e-04 - accuracy: 0.0000e+00\n",
      "Epoch 26/200\n",
      "667/667 [==============================] - 1s 1ms/step - loss: 3.4555e-04 - accuracy: 0.0000e+00\n",
      "Epoch 27/200\n",
      "667/667 [==============================] - 1s 1ms/step - loss: 2.8188e-04 - accuracy: 0.0000e+00\n",
      "Epoch 28/200\n",
      "667/667 [==============================] - 1s 1ms/step - loss: 2.5006e-04 - accuracy: 0.0000e+00\n",
      "Epoch 29/200\n",
      "667/667 [==============================] - 1s 1ms/step - loss: 2.8920e-04 - accuracy: 0.0000e+00\n",
      "Epoch 30/200\n",
      "667/667 [==============================] - 1s 1ms/step - loss: 2.5911e-04 - accuracy: 0.0000e+00\n",
      "Epoch 31/200\n",
      "667/667 [==============================] - 1s 1ms/step - loss: 2.7487e-04 - accuracy: 0.0000e+00\n",
      "Epoch 32/200\n",
      "667/667 [==============================] - 1s 1ms/step - loss: 3.4493e-04 - accuracy: 0.0000e+00\n",
      "Epoch 33/200\n",
      "667/667 [==============================] - 1s 1ms/step - loss: 2.2315e-04 - accuracy: 0.0000e+00\n",
      "Epoch 34/200\n",
      "667/667 [==============================] - 1s 1ms/step - loss: 2.6477e-04 - accuracy: 0.0000e+00\n",
      "Epoch 35/200\n",
      "667/667 [==============================] - 1s 1ms/step - loss: 2.5513e-04 - accuracy: 0.0000e+00\n",
      "Epoch 36/200\n",
      "667/667 [==============================] - 1s 1ms/step - loss: 2.5066e-04 - accuracy: 0.0000e+00\n",
      "Epoch 37/200\n",
      "667/667 [==============================] - 1s 1ms/step - loss: 3.4820e-04 - accuracy: 0.0000e+00\n",
      "Epoch 38/200\n",
      "667/667 [==============================] - 1s 1ms/step - loss: 2.0655e-04 - accuracy: 0.0000e+00\n",
      "Epoch 39/200\n",
      "667/667 [==============================] - 1s 1ms/step - loss: 2.4109e-04 - accuracy: 0.0000e+00\n",
      "Epoch 40/200\n",
      "667/667 [==============================] - 1s 1ms/step - loss: 2.7742e-04 - accuracy: 0.0000e+00\n",
      "Epoch 41/200\n",
      "667/667 [==============================] - 1s 1ms/step - loss: 2.3699e-04 - accuracy: 0.0000e+00\n",
      "Epoch 42/200\n",
      "667/667 [==============================] - 1s 1ms/step - loss: 2.5323e-04 - accuracy: 0.0000e+00\n",
      "Epoch 43/200\n",
      "667/667 [==============================] - 1s 1ms/step - loss: 3.0030e-04 - accuracy: 0.0000e+00\n",
      "Epoch 44/200\n",
      "667/667 [==============================] - 1s 1ms/step - loss: 2.2058e-04 - accuracy: 0.0000e+00\n",
      "Epoch 45/200\n",
      "667/667 [==============================] - 1s 1ms/step - loss: 2.1414e-04 - accuracy: 0.0000e+00\n",
      "Epoch 46/200\n",
      "667/667 [==============================] - 1s 1ms/step - loss: 2.0819e-04 - accuracy: 0.0000e+00\n",
      "Epoch 47/200\n",
      "667/667 [==============================] - 1s 1ms/step - loss: 2.8981e-04 - accuracy: 0.0000e+00\n",
      "Epoch 48/200\n",
      "667/667 [==============================] - 1s 1ms/step - loss: 2.3894e-04 - accuracy: 0.0000e+00\n",
      "Epoch 49/200\n",
      "667/667 [==============================] - 1s 1ms/step - loss: 1.9364e-04 - accuracy: 0.0000e+00\n",
      "Epoch 50/200\n",
      "667/667 [==============================] - 1s 1ms/step - loss: 2.5878e-04 - accuracy: 0.0000e+00\n",
      "Epoch 51/200\n",
      "667/667 [==============================] - 1s 1ms/step - loss: 2.3223e-04 - accuracy: 0.0000e+00\n",
      "Epoch 52/200\n",
      "667/667 [==============================] - 1s 1ms/step - loss: 2.1544e-04 - accuracy: 0.0000e+00\n",
      "Epoch 53/200\n",
      "667/667 [==============================] - 1s 1ms/step - loss: 2.2077e-04 - accuracy: 0.0000e+00\n",
      "Epoch 54/200\n",
      "667/667 [==============================] - 1s 1ms/step - loss: 2.3503e-04 - accuracy: 0.0000e+00\n",
      "Epoch 55/200\n",
      "667/667 [==============================] - 1s 1ms/step - loss: 2.4141e-04 - accuracy: 0.0000e+00\n",
      "Epoch 56/200\n",
      "667/667 [==============================] - 1s 1ms/step - loss: 2.0520e-04 - accuracy: 0.0000e+00\n",
      "Epoch 57/200\n",
      "667/667 [==============================] - 1s 2ms/step - loss: 2.0870e-04 - accuracy: 0.0000e+00\n",
      "Epoch 58/200\n",
      "667/667 [==============================] - 1s 1ms/step - loss: 2.1216e-04 - accuracy: 0.0000e+00\n",
      "Epoch 59/200\n",
      "667/667 [==============================] - 1s 1ms/step - loss: 2.1675e-04 - accuracy: 0.0000e+00\n",
      "Epoch 60/200\n",
      "667/667 [==============================] - 1s 1ms/step - loss: 2.3627e-04 - accuracy: 0.0000e+00\n",
      "Epoch 61/200\n",
      "667/667 [==============================] - 1s 1ms/step - loss: 1.9679e-04 - accuracy: 0.0000e+00\n",
      "Epoch 62/200\n",
      "667/667 [==============================] - 1s 1ms/step - loss: 2.0607e-04 - accuracy: 0.0000e+00\n",
      "Epoch 63/200\n",
      "667/667 [==============================] - 1s 1ms/step - loss: 1.7573e-04 - accuracy: 0.0000e+00\n",
      "Epoch 64/200\n",
      "667/667 [==============================] - 1s 1ms/step - loss: 2.0456e-04 - accuracy: 0.0000e+00\n",
      "Epoch 65/200\n",
      "667/667 [==============================] - 1s 1ms/step - loss: 1.6789e-04 - accuracy: 0.0000e+00\n",
      "Epoch 66/200\n",
      "667/667 [==============================] - 1s 1ms/step - loss: 2.9677e-04 - accuracy: 0.0000e+00\n",
      "Epoch 67/200\n",
      "667/667 [==============================] - 1s 1ms/step - loss: 1.5019e-04 - accuracy: 0.0000e+00\n",
      "Epoch 68/200\n",
      "667/667 [==============================] - 1s 1ms/step - loss: 1.5577e-04 - accuracy: 0.0000e+00\n",
      "Epoch 69/200\n",
      "667/667 [==============================] - 1s 1ms/step - loss: 2.1947e-04 - accuracy: 0.0000e+00\n",
      "Epoch 70/200\n",
      "667/667 [==============================] - 1s 1ms/step - loss: 1.6261e-04 - accuracy: 0.0000e+00\n",
      "Epoch 71/200\n",
      "667/667 [==============================] - 1s 2ms/step - loss: 1.7851e-04 - accuracy: 0.0000e+00\n",
      "Epoch 72/200\n",
      "667/667 [==============================] - 1s 1ms/step - loss: 4.2430e-04 - accuracy: 0.0000e+00\n",
      "Epoch 73/200\n",
      "667/667 [==============================] - 1s 1ms/step - loss: 1.6157e-04 - accuracy: 0.0000e+00\n",
      "Epoch 74/200\n",
      "667/667 [==============================] - 1s 1ms/step - loss: 1.6452e-04 - accuracy: 0.0000e+00\n",
      "Epoch 75/200\n",
      "667/667 [==============================] - 1s 1ms/step - loss: 2.3723e-04 - accuracy: 0.0000e+00\n",
      "Epoch 76/200\n",
      "667/667 [==============================] - 1s 1ms/step - loss: 1.6826e-04 - accuracy: 0.0000e+00\n",
      "Epoch 77/200\n",
      "667/667 [==============================] - 1s 1ms/step - loss: 2.2513e-04 - accuracy: 0.0000e+00\n",
      "Epoch 78/200\n",
      "667/667 [==============================] - 1s 1ms/step - loss: 1.8195e-04 - accuracy: 0.0000e+00\n",
      "Epoch 79/200\n",
      "667/667 [==============================] - 1s 1ms/step - loss: 2.1046e-04 - accuracy: 0.0000e+00\n",
      "Epoch 80/200\n",
      "667/667 [==============================] - 1s 1ms/step - loss: 1.8082e-04 - accuracy: 0.0000e+00\n",
      "Epoch 81/200\n",
      "667/667 [==============================] - 1s 1ms/step - loss: 2.0649e-04 - accuracy: 0.0000e+00\n",
      "Epoch 82/200\n",
      "667/667 [==============================] - 1s 1ms/step - loss: 1.9531e-04 - accuracy: 0.0000e+00\n",
      "Epoch 83/200\n",
      "667/667 [==============================] - 1s 1ms/step - loss: 2.2080e-04 - accuracy: 0.0000e+00\n",
      "Epoch 84/200\n",
      "667/667 [==============================] - 1s 1ms/step - loss: 1.6727e-04 - accuracy: 0.0000e+00\n",
      "Epoch 85/200\n",
      "667/667 [==============================] - 1s 1ms/step - loss: 2.2127e-04 - accuracy: 0.0000e+00\n",
      "Epoch 86/200\n",
      "667/667 [==============================] - 1s 1ms/step - loss: 2.0038e-04 - accuracy: 0.0000e+00\n",
      "Epoch 87/200\n",
      "667/667 [==============================] - 1s 1ms/step - loss: 1.8536e-04 - accuracy: 0.0000e+00\n",
      "Epoch 88/200\n",
      "667/667 [==============================] - 1s 1ms/step - loss: 2.0864e-04 - accuracy: 0.0000e+00\n",
      "Epoch 89/200\n",
      "667/667 [==============================] - 1s 1ms/step - loss: 1.7641e-04 - accuracy: 0.0000e+00\n",
      "Epoch 90/200\n",
      "667/667 [==============================] - 1s 1ms/step - loss: 2.0728e-04 - accuracy: 0.0000e+00\n",
      "Epoch 91/200\n",
      "667/667 [==============================] - 1s 1ms/step - loss: 1.6869e-04 - accuracy: 0.0000e+00\n",
      "Epoch 92/200\n",
      "667/667 [==============================] - 1s 1ms/step - loss: 2.3065e-04 - accuracy: 0.0000e+00\n",
      "Epoch 93/200\n",
      "667/667 [==============================] - 1s 1ms/step - loss: 1.8914e-04 - accuracy: 0.0000e+00\n",
      "Epoch 94/200\n",
      "667/667 [==============================] - 1s 1ms/step - loss: 2.7141e-04 - accuracy: 0.0000e+00\n",
      "Epoch 95/200\n",
      "667/667 [==============================] - 1s 1ms/step - loss: 1.4410e-04 - accuracy: 0.0000e+00\n",
      "Epoch 96/200\n",
      "667/667 [==============================] - 1s 1ms/step - loss: 2.5226e-04 - accuracy: 0.0000e+00\n",
      "Epoch 97/200\n",
      "667/667 [==============================] - 1s 1ms/step - loss: 1.7173e-04 - accuracy: 0.0000e+00\n",
      "Epoch 98/200\n",
      "667/667 [==============================] - 1s 1ms/step - loss: 1.6660e-04 - accuracy: 0.0000e+00\n",
      "Epoch 99/200\n",
      "667/667 [==============================] - 1s 1ms/step - loss: 2.0111e-04 - accuracy: 0.0000e+00\n",
      "Epoch 100/200\n",
      "667/667 [==============================] - 1s 1ms/step - loss: 1.8179e-04 - accuracy: 0.0000e+00\n",
      "Epoch 101/200\n",
      "667/667 [==============================] - 1s 1ms/step - loss: 2.0674e-04 - accuracy: 0.0000e+00\n",
      "Epoch 102/200\n",
      "667/667 [==============================] - 1s 1ms/step - loss: 2.0290e-04 - accuracy: 0.0000e+00\n",
      "Epoch 103/200\n",
      "667/667 [==============================] - 1s 1ms/step - loss: 1.8029e-04 - accuracy: 0.0000e+00\n",
      "Epoch 104/200\n",
      "667/667 [==============================] - 1s 1ms/step - loss: 1.6024e-04 - accuracy: 0.0000e+00\n",
      "Epoch 105/200\n",
      "667/667 [==============================] - 1s 1ms/step - loss: 1.6934e-04 - accuracy: 0.0000e+00\n",
      "Epoch 106/200\n",
      "667/667 [==============================] - 1s 1ms/step - loss: 1.8869e-04 - accuracy: 0.0000e+00\n",
      "Epoch 107/200\n",
      "667/667 [==============================] - 1s 1ms/step - loss: 2.3701e-04 - accuracy: 0.0000e+00\n",
      "Epoch 108/200\n",
      "667/667 [==============================] - 1s 1ms/step - loss: 1.8331e-04 - accuracy: 0.0000e+00\n",
      "Epoch 109/200\n",
      "667/667 [==============================] - 1s 1ms/step - loss: 1.8606e-04 - accuracy: 0.0000e+00\n",
      "Epoch 110/200\n",
      "667/667 [==============================] - 1s 1ms/step - loss: 1.7182e-04 - accuracy: 0.0000e+00\n",
      "Epoch 111/200\n",
      "667/667 [==============================] - 1s 1ms/step - loss: 1.7880e-04 - accuracy: 0.0000e+00\n",
      "Epoch 112/200\n",
      "667/667 [==============================] - 1s 1ms/step - loss: 2.3472e-04 - accuracy: 0.0000e+00\n",
      "Epoch 113/200\n",
      "667/667 [==============================] - 1s 1ms/step - loss: 1.8112e-04 - accuracy: 0.0000e+00\n",
      "Epoch 114/200\n",
      "667/667 [==============================] - 1s 1ms/step - loss: 2.0229e-04 - accuracy: 0.0000e+00\n",
      "Epoch 115/200\n",
      "667/667 [==============================] - 1s 1ms/step - loss: 1.5390e-04 - accuracy: 0.0000e+00\n",
      "Epoch 116/200\n",
      "667/667 [==============================] - 1s 1ms/step - loss: 1.8951e-04 - accuracy: 0.0000e+00\n",
      "Epoch 117/200\n",
      "667/667 [==============================] - 1s 1ms/step - loss: 1.8749e-04 - accuracy: 0.0000e+00\n",
      "Epoch 118/200\n",
      "667/667 [==============================] - 1s 1ms/step - loss: 1.9355e-04 - accuracy: 0.0000e+00\n",
      "Epoch 119/200\n",
      "667/667 [==============================] - 1s 1ms/step - loss: 1.8968e-04 - accuracy: 0.0000e+00\n",
      "Epoch 120/200\n",
      "667/667 [==============================] - 1s 1ms/step - loss: 2.4898e-04 - accuracy: 0.0000e+00\n",
      "Epoch 121/200\n",
      "667/667 [==============================] - 1s 1ms/step - loss: 1.3602e-04 - accuracy: 0.0000e+00\n",
      "Epoch 122/200\n",
      "667/667 [==============================] - 1s 1ms/step - loss: 1.7557e-04 - accuracy: 0.0000e+00\n",
      "Epoch 123/200\n",
      "667/667 [==============================] - 1s 1ms/step - loss: 2.0044e-04 - accuracy: 0.0000e+00\n",
      "Epoch 124/200\n",
      "667/667 [==============================] - 1s 1ms/step - loss: 2.2170e-04 - accuracy: 0.0000e+00\n",
      "Epoch 125/200\n",
      "667/667 [==============================] - 1s 1ms/step - loss: 1.7707e-04 - accuracy: 0.0000e+00\n",
      "Epoch 126/200\n",
      "667/667 [==============================] - 1s 1ms/step - loss: 1.4988e-04 - accuracy: 0.0000e+00\n",
      "Epoch 127/200\n",
      "667/667 [==============================] - 1s 1ms/step - loss: 1.5183e-04 - accuracy: 0.0000e+00\n",
      "Epoch 128/200\n",
      "667/667 [==============================] - 1s 1ms/step - loss: 2.0650e-04 - accuracy: 0.0000e+00\n",
      "Epoch 129/200\n",
      "667/667 [==============================] - 1s 1ms/step - loss: 2.0503e-04 - accuracy: 0.0000e+00\n",
      "Epoch 130/200\n",
      "667/667 [==============================] - 1s 1ms/step - loss: 1.4398e-04 - accuracy: 0.0000e+00\n",
      "Epoch 131/200\n",
      "667/667 [==============================] - 1s 1ms/step - loss: 1.6263e-04 - accuracy: 0.0000e+00\n",
      "Epoch 132/200\n",
      "667/667 [==============================] - 1s 1ms/step - loss: 2.1855e-04 - accuracy: 0.0000e+00\n",
      "Epoch 133/200\n",
      "667/667 [==============================] - 1s 1ms/step - loss: 1.8993e-04 - accuracy: 0.0000e+00\n",
      "Epoch 134/200\n",
      "667/667 [==============================] - 1s 1ms/step - loss: 1.5015e-04 - accuracy: 0.0000e+00\n",
      "Epoch 135/200\n",
      "667/667 [==============================] - 1s 2ms/step - loss: 1.5408e-04 - accuracy: 0.0000e+00\n",
      "Epoch 136/200\n",
      "667/667 [==============================] - 1s 1ms/step - loss: 2.1054e-04 - accuracy: 0.0000e+00\n",
      "Epoch 137/200\n",
      "667/667 [==============================] - 1s 1ms/step - loss: 1.3964e-04 - accuracy: 0.0000e+00\n",
      "Epoch 138/200\n",
      "667/667 [==============================] - 1s 1ms/step - loss: 2.2829e-04 - accuracy: 0.0000e+00\n",
      "Epoch 139/200\n",
      "667/667 [==============================] - 1s 1ms/step - loss: 1.3294e-04 - accuracy: 0.0000e+00\n",
      "Epoch 140/200\n",
      "667/667 [==============================] - 1s 2ms/step - loss: 1.6130e-04 - accuracy: 0.0000e+00\n",
      "Epoch 141/200\n",
      "667/667 [==============================] - 1s 1ms/step - loss: 2.1515e-04 - accuracy: 0.0000e+00\n",
      "Epoch 142/200\n",
      "667/667 [==============================] - 1s 2ms/step - loss: 1.3703e-04 - accuracy: 0.0000e+00\n",
      "Epoch 143/200\n",
      "667/667 [==============================] - 1s 1ms/step - loss: 2.1527e-04 - accuracy: 0.0000e+00\n",
      "Epoch 144/200\n",
      "667/667 [==============================] - 1s 1ms/step - loss: 1.4972e-04 - accuracy: 0.0000e+00\n",
      "Epoch 145/200\n",
      "667/667 [==============================] - 1s 2ms/step - loss: 1.5717e-04 - accuracy: 0.0000e+00\n",
      "Epoch 146/200\n",
      "667/667 [==============================] - 1s 2ms/step - loss: 1.6898e-04 - accuracy: 0.0000e+00\n",
      "Epoch 147/200\n",
      "667/667 [==============================] - 1s 1ms/step - loss: 1.8888e-04 - accuracy: 0.0000e+00\n",
      "Epoch 148/200\n",
      "667/667 [==============================] - 1s 1ms/step - loss: 2.2222e-04 - accuracy: 0.0000e+00\n",
      "Epoch 149/200\n"
     ]
    },
    {
     "name": "stdout",
     "output_type": "stream",
     "text": [
      "667/667 [==============================] - 1s 1ms/step - loss: 1.3794e-04 - accuracy: 0.0000e+00\n",
      "Epoch 150/200\n",
      "667/667 [==============================] - 1s 1ms/step - loss: 1.7479e-04 - accuracy: 0.0000e+00\n",
      "Epoch 151/200\n",
      "667/667 [==============================] - 1s 1ms/step - loss: 1.5669e-04 - accuracy: 0.0000e+00\n",
      "Epoch 152/200\n",
      "667/667 [==============================] - 1s 1ms/step - loss: 1.7304e-04 - accuracy: 0.0000e+00\n",
      "Epoch 153/200\n",
      "667/667 [==============================] - 1s 1ms/step - loss: 1.9329e-04 - accuracy: 0.0000e+00\n",
      "Epoch 154/200\n",
      "667/667 [==============================] - 1s 1ms/step - loss: 1.6077e-04 - accuracy: 0.0000e+00\n",
      "Epoch 155/200\n",
      "667/667 [==============================] - 1s 1ms/step - loss: 1.7314e-04 - accuracy: 0.0000e+00\n",
      "Epoch 156/200\n",
      "667/667 [==============================] - 1s 1ms/step - loss: 1.4064e-04 - accuracy: 0.0000e+00\n",
      "Epoch 157/200\n",
      "667/667 [==============================] - 1s 1ms/step - loss: 1.9442e-04 - accuracy: 0.0000e+00\n",
      "Epoch 158/200\n",
      "667/667 [==============================] - 1s 1ms/step - loss: 1.4768e-04 - accuracy: 0.0000e+00\n",
      "Epoch 159/200\n",
      "667/667 [==============================] - 1s 1ms/step - loss: 2.1686e-04 - accuracy: 0.0000e+00\n",
      "Epoch 160/200\n",
      "667/667 [==============================] - 1s 1ms/step - loss: 1.2711e-04 - accuracy: 0.0000e+00\n",
      "Epoch 161/200\n",
      "667/667 [==============================] - 1s 1ms/step - loss: 1.8451e-04 - accuracy: 0.0000e+00\n",
      "Epoch 162/200\n",
      "667/667 [==============================] - 1s 1ms/step - loss: 1.3704e-04 - accuracy: 0.0000e+00\n",
      "Epoch 163/200\n",
      "667/667 [==============================] - 1s 2ms/step - loss: 2.0233e-04 - accuracy: 0.0000e+00\n",
      "Epoch 164/200\n",
      "667/667 [==============================] - 1s 2ms/step - loss: 1.3207e-04 - accuracy: 0.0000e+00\n",
      "Epoch 165/200\n",
      "667/667 [==============================] - 1s 1ms/step - loss: 6.7816e-04 - accuracy: 0.0000e+00\n",
      "Epoch 166/200\n",
      "667/667 [==============================] - 1s 1ms/step - loss: 1.8785e-04 - accuracy: 0.0000e+00\n",
      "Epoch 167/200\n",
      "667/667 [==============================] - 1s 2ms/step - loss: 2.0900e-04 - accuracy: 0.0000e+00\n",
      "Epoch 168/200\n",
      "667/667 [==============================] - 1s 1ms/step - loss: 1.6704e-04 - accuracy: 0.0000e+00\n",
      "Epoch 169/200\n",
      "667/667 [==============================] - 1s 1ms/step - loss: 1.9293e-04 - accuracy: 0.0000e+00\n",
      "Epoch 170/200\n",
      "667/667 [==============================] - 1s 1ms/step - loss: 1.5451e-04 - accuracy: 0.0000e+00\n",
      "Epoch 171/200\n",
      "667/667 [==============================] - 1s 1ms/step - loss: 1.6945e-04 - accuracy: 0.0000e+00\n",
      "Epoch 172/200\n",
      "667/667 [==============================] - 1s 1ms/step - loss: 1.6238e-04 - accuracy: 0.0000e+00\n",
      "Epoch 173/200\n",
      "667/667 [==============================] - 1s 1ms/step - loss: 2.5678e-04 - accuracy: 0.0000e+00\n",
      "Epoch 174/200\n",
      "667/667 [==============================] - 1s 2ms/step - loss: 1.7849e-04 - accuracy: 0.0000e+00\n",
      "Epoch 175/200\n",
      "667/667 [==============================] - 1s 1ms/step - loss: 1.6433e-04 - accuracy: 0.0000e+00\n",
      "Epoch 176/200\n",
      "667/667 [==============================] - 1s 1ms/step - loss: 1.8877e-04 - accuracy: 0.0000e+00\n",
      "Epoch 177/200\n",
      "667/667 [==============================] - 1s 1ms/step - loss: 1.8323e-04 - accuracy: 0.0000e+00\n",
      "Epoch 178/200\n",
      "667/667 [==============================] - 1s 1ms/step - loss: 1.6627e-04 - accuracy: 0.0000e+00\n",
      "Epoch 179/200\n",
      "667/667 [==============================] - 1s 1ms/step - loss: 2.4021e-04 - accuracy: 0.0000e+00\n",
      "Epoch 180/200\n",
      "667/667 [==============================] - 1s 1ms/step - loss: 1.4155e-04 - accuracy: 0.0000e+00\n",
      "Epoch 181/200\n",
      "667/667 [==============================] - 1s 1ms/step - loss: 1.4831e-04 - accuracy: 0.0000e+00\n",
      "Epoch 182/200\n",
      "667/667 [==============================] - 1s 1ms/step - loss: 1.7537e-04 - accuracy: 0.0000e+00\n",
      "Epoch 183/200\n",
      "667/667 [==============================] - 1s 1ms/step - loss: 1.7871e-04 - accuracy: 0.0000e+00\n",
      "Epoch 184/200\n",
      "667/667 [==============================] - 1s 1ms/step - loss: 2.2104e-04 - accuracy: 0.0000e+00\n",
      "Epoch 185/200\n",
      "667/667 [==============================] - 1s 1ms/step - loss: 1.3984e-04 - accuracy: 0.0000e+00\n",
      "Epoch 186/200\n",
      "667/667 [==============================] - 1s 1ms/step - loss: 2.4294e-04 - accuracy: 0.0000e+00\n",
      "Epoch 187/200\n",
      "667/667 [==============================] - 1s 1ms/step - loss: 1.4782e-04 - accuracy: 0.0000e+00\n",
      "Epoch 188/200\n",
      "667/667 [==============================] - 1s 1ms/step - loss: 2.0779e-04 - accuracy: 0.0000e+00\n",
      "Epoch 189/200\n",
      "667/667 [==============================] - 1s 1ms/step - loss: 1.2952e-04 - accuracy: 0.0000e+00\n",
      "Epoch 190/200\n",
      "667/667 [==============================] - 1s 1ms/step - loss: 1.5570e-04 - accuracy: 0.0000e+00\n",
      "Epoch 191/200\n",
      "667/667 [==============================] - 1s 1ms/step - loss: 1.7114e-04 - accuracy: 0.0000e+00\n",
      "Epoch 192/200\n",
      "667/667 [==============================] - 1s 1ms/step - loss: 2.1106e-04 - accuracy: 0.0000e+00\n",
      "Epoch 193/200\n",
      "667/667 [==============================] - 1s 2ms/step - loss: 1.2421e-04 - accuracy: 0.0000e+00\n",
      "Epoch 194/200\n",
      "667/667 [==============================] - 1s 1ms/step - loss: 1.4721e-04 - accuracy: 0.0000e+00\n",
      "Epoch 195/200\n",
      "667/667 [==============================] - 1s 1ms/step - loss: 1.6362e-04 - accuracy: 0.0000e+00\n",
      "Epoch 196/200\n",
      "667/667 [==============================] - 1s 1ms/step - loss: 1.4346e-04 - accuracy: 0.0000e+00\n",
      "Epoch 197/200\n",
      "667/667 [==============================] - 1s 1ms/step - loss: 1.4959e-04 - accuracy: 0.0000e+00\n",
      "Epoch 198/200\n",
      "667/667 [==============================] - 1s 1ms/step - loss: 1.4118e-04 - accuracy: 0.0000e+00\n",
      "Epoch 199/200\n",
      "667/667 [==============================] - 1s 1ms/step - loss: 1.6634e-04 - accuracy: 0.0000e+00\n",
      "Epoch 200/200\n",
      "667/667 [==============================] - 1s 1ms/step - loss: 1.1852e-04 - accuracy: 0.0000e+00\n"
     ]
    },
    {
     "data": {
      "text/plain": [
       "<tensorflow.python.keras.callbacks.History at 0x7f9298071c70>"
      ]
     },
     "execution_count": 169,
     "metadata": {},
     "output_type": "execute_result"
    }
   ],
   "source": [
    "# fit the keras model on the dataset\n",
    "model.fit(X, y, epochs=200, batch_size=30)"
   ]
  },
  {
   "cell_type": "code",
   "execution_count": 171,
   "metadata": {
    "id": "KSRY7jJzGdmu"
   },
   "outputs": [
    {
     "data": {
      "text/plain": [
       "[<matplotlib.lines.Line2D at 0x7f92740a90d0>]"
      ]
     },
     "execution_count": 171,
     "metadata": {},
     "output_type": "execute_result"
    },
    {
     "data": {
      "text/plain": [
       "[<matplotlib.lines.Line2D at 0x7f92740a9430>]"
      ]
     },
     "execution_count": 171,
     "metadata": {},
     "output_type": "execute_result"
    },
    {
     "data": {
      "text/plain": [
       "Text(0.5, 0, 'Angle [rad]')"
      ]
     },
     "execution_count": 171,
     "metadata": {},
     "output_type": "execute_result"
    },
    {
     "data": {
      "text/plain": [
       "Text(0, 0.5, 'sin(x)')"
      ]
     },
     "execution_count": 171,
     "metadata": {},
     "output_type": "execute_result"
    },
    {
     "data": {
      "text/plain": [
       "(-0.04992437596248095,\n",
       " 1.0498957049455557,\n",
       " 0.05690861706497721,\n",
       " 0.899815837085927)"
      ]
     },
     "execution_count": 171,
     "metadata": {},
     "output_type": "execute_result"
    },
    {
     "data": {
      "image/png": "[encoded data removed]",
      "text/plain": [
       "<Figure size 432x288 with 1 Axes>"
      ]
     },
     "metadata": {
      "needs_background": "light"
     },
     "output_type": "display_data"
    }
   ],
   "source": [
    "import matplotlib.pyplot as plt\n",
    "\n",
    "pred = model.predict(X)\n",
    "\n",
    "plt.plot(X, y, 'r-')\n",
    "plt.plot(X, pred, 'b--')\n",
    "\n",
    "\n",
    "plt.xlabel('Angle [rad]')\n",
    "plt.ylabel('sin(x)')\n",
    "plt.axis('tight')\n",
    "plt.show()"
   ]
  },
  {
   "cell_type": "markdown",
   "metadata": {},
   "source": [
    "<br>It is getting better.<br>"
   ]
  },
  {
   "cell_type": "markdown",
   "metadata": {},
   "source": [
    "And another 50 epochs..."
   ]
  },
  {
   "cell_type": "code",
   "execution_count": 173,
   "metadata": {
    "scrolled": true
   },
   "outputs": [
    {
     "name": "stdout",
     "output_type": "stream",
     "text": [
      "Epoch 1/50\n",
      "667/667 [==============================] - 1s 1ms/step - loss: 1.4083e-04 - accuracy: 0.0000e+00\n",
      "Epoch 2/50\n",
      "667/667 [==============================] - 1s 1ms/step - loss: 1.2650e-04 - accuracy: 0.0000e+00\n",
      "Epoch 3/50\n",
      "667/667 [==============================] - 1s 1ms/step - loss: 1.4476e-04 - accuracy: 0.0000e+00\n",
      "Epoch 4/50\n",
      "667/667 [==============================] - 1s 1ms/step - loss: 2.9319e-04 - accuracy: 0.0000e+00\n",
      "Epoch 5/50\n",
      "667/667 [==============================] - 1s 1ms/step - loss: 9.0439e-05 - accuracy: 0.0000e+00\n",
      "Epoch 6/50\n",
      "667/667 [==============================] - 1s 1ms/step - loss: 1.3762e-04 - accuracy: 0.0000e+00\n",
      "Epoch 7/50\n",
      "667/667 [==============================] - 1s 1ms/step - loss: 1.1756e-04 - accuracy: 0.0000e+00\n",
      "Epoch 8/50\n",
      "667/667 [==============================] - 1s 1ms/step - loss: 1.1137e-04 - accuracy: 0.0000e+00\n",
      "Epoch 9/50\n",
      "667/667 [==============================] - 1s 1ms/step - loss: 1.3252e-04 - accuracy: 0.0000e+00\n",
      "Epoch 10/50\n",
      "667/667 [==============================] - 1s 1ms/step - loss: 1.1571e-04 - accuracy: 0.0000e+00\n",
      "Epoch 11/50\n",
      "667/667 [==============================] - 1s 1ms/step - loss: 1.3342e-04 - accuracy: 0.0000e+00\n",
      "Epoch 12/50\n",
      "667/667 [==============================] - 1s 1ms/step - loss: 1.3051e-04 - accuracy: 0.0000e+00\n",
      "Epoch 13/50\n",
      "667/667 [==============================] - 1s 1ms/step - loss: 1.1807e-04 - accuracy: 0.0000e+00\n",
      "Epoch 14/50\n",
      "667/667 [==============================] - 1s 1ms/step - loss: 1.5912e-04 - accuracy: 0.0000e+00\n",
      "Epoch 15/50\n",
      "667/667 [==============================] - 1s 1ms/step - loss: 1.1804e-04 - accuracy: 0.0000e+00\n",
      "Epoch 16/50\n",
      "667/667 [==============================] - 1s 1ms/step - loss: 1.5808e-04 - accuracy: 0.0000e+00\n",
      "Epoch 17/50\n",
      "667/667 [==============================] - 1s 1ms/step - loss: 8.1547e-05 - accuracy: 0.0000e+00\n",
      "Epoch 18/50\n",
      "667/667 [==============================] - 1s 1ms/step - loss: 1.2059e-04 - accuracy: 0.0000e+00\n",
      "Epoch 19/50\n",
      "667/667 [==============================] - 1s 1ms/step - loss: 1.1777e-04 - accuracy: 0.0000e+00\n",
      "Epoch 20/50\n",
      "667/667 [==============================] - 1s 1ms/step - loss: 1.0745e-04 - accuracy: 0.0000e+00\n",
      "Epoch 21/50\n",
      "667/667 [==============================] - 1s 1ms/step - loss: 1.7052e-04 - accuracy: 0.0000e+00\n",
      "Epoch 22/50\n",
      "667/667 [==============================] - 1s 1ms/step - loss: 1.2336e-04 - accuracy: 0.0000e+00\n",
      "Epoch 23/50\n",
      "667/667 [==============================] - 1s 1ms/step - loss: 9.5916e-05 - accuracy: 0.0000e+00\n",
      "Epoch 24/50\n",
      "667/667 [==============================] - 1s 1ms/step - loss: 1.2903e-04 - accuracy: 0.0000e+00\n",
      "Epoch 25/50\n",
      "667/667 [==============================] - 1s 1ms/step - loss: 9.9641e-05 - accuracy: 0.0000e+00\n",
      "Epoch 26/50\n",
      "667/667 [==============================] - 1s 1ms/step - loss: 1.4321e-04 - accuracy: 0.0000e+00\n",
      "Epoch 27/50\n",
      "667/667 [==============================] - 1s 1ms/step - loss: 9.5371e-05 - accuracy: 0.0000e+00\n",
      "Epoch 28/50\n",
      "667/667 [==============================] - 1s 1ms/step - loss: 1.2020e-04 - accuracy: 0.0000e+00\n",
      "Epoch 29/50\n",
      "667/667 [==============================] - 1s 2ms/step - loss: 1.0032e-04 - accuracy: 0.0000e+00\n",
      "Epoch 30/50\n",
      "667/667 [==============================] - 1s 2ms/step - loss: 1.1353e-04 - accuracy: 0.0000e+00\n",
      "Epoch 31/50\n",
      "667/667 [==============================] - 1s 1ms/step - loss: 8.8819e-05 - accuracy: 0.0000e+00\n",
      "Epoch 32/50\n",
      "667/667 [==============================] - 1s 1ms/step - loss: 1.1153e-04 - accuracy: 0.0000e+00\n",
      "Epoch 33/50\n",
      "667/667 [==============================] - 1s 1ms/step - loss: 1.1335e-04 - accuracy: 0.0000e+00\n",
      "Epoch 34/50\n",
      "667/667 [==============================] - 1s 1ms/step - loss: 1.2060e-04 - accuracy: 0.0000e+00\n",
      "Epoch 35/50\n",
      "667/667 [==============================] - 1s 1ms/step - loss: 1.3792e-04 - accuracy: 0.0000e+00\n",
      "Epoch 36/50\n",
      "667/667 [==============================] - 1s 1ms/step - loss: 9.5827e-05 - accuracy: 0.0000e+00\n",
      "Epoch 37/50\n",
      "667/667 [==============================] - 1s 1ms/step - loss: 9.0663e-05 - accuracy: 0.0000e+00\n",
      "Epoch 38/50\n",
      "667/667 [==============================] - 1s 1ms/step - loss: 1.1387e-04 - accuracy: 0.0000e+00\n",
      "Epoch 39/50\n",
      "667/667 [==============================] - 1s 1ms/step - loss: 1.0917e-04 - accuracy: 0.0000e+00\n",
      "Epoch 40/50\n",
      "667/667 [==============================] - 1s 1ms/step - loss: 1.1750e-04 - accuracy: 0.0000e+00\n",
      "Epoch 41/50\n",
      "667/667 [==============================] - 1s 1ms/step - loss: 8.3030e-05 - accuracy: 0.0000e+00\n",
      "Epoch 42/50\n",
      "667/667 [==============================] - 1s 1ms/step - loss: 1.3185e-04 - accuracy: 0.0000e+00\n",
      "Epoch 43/50\n",
      "667/667 [==============================] - 1s 1ms/step - loss: 9.0890e-05 - accuracy: 0.0000e+00\n",
      "Epoch 44/50\n",
      "667/667 [==============================] - 1s 1ms/step - loss: 1.2730e-04 - accuracy: 0.0000e+00\n",
      "Epoch 45/50\n",
      "667/667 [==============================] - 1s 1ms/step - loss: 1.0612e-04 - accuracy: 0.0000e+00\n",
      "Epoch 46/50\n",
      "667/667 [==============================] - 1s 1ms/step - loss: 9.4274e-05 - accuracy: 0.0000e+00\n",
      "Epoch 47/50\n",
      "667/667 [==============================] - 1s 1ms/step - loss: 1.4862e-04 - accuracy: 0.0000e+00\n",
      "Epoch 48/50\n",
      "667/667 [==============================] - 1s 1ms/step - loss: 7.8267e-05 - accuracy: 0.0000e+00\n",
      "Epoch 49/50\n",
      "667/667 [==============================] - 1s 1ms/step - loss: 8.6881e-05 - accuracy: 0.0000e+00\n",
      "Epoch 50/50\n",
      "667/667 [==============================] - 1s 2ms/step - loss: 1.9581e-04 - accuracy: 0.0000e+00\n"
     ]
    },
    {
     "data": {
      "text/plain": [
       "<tensorflow.python.keras.callbacks.History at 0x7f9274473820>"
      ]
     },
     "execution_count": 173,
     "metadata": {},
     "output_type": "execute_result"
    }
   ],
   "source": [
    "# fit the keras model on the dataset\n",
    "model.fit(X, y, epochs=50, batch_size=30)"
   ]
  },
  {
   "cell_type": "code",
   "execution_count": 175,
   "metadata": {},
   "outputs": [
    {
     "data": {
      "text/plain": [
       "[<matplotlib.lines.Line2D at 0x7f92740c6bb0>]"
      ]
     },
     "execution_count": 175,
     "metadata": {},
     "output_type": "execute_result"
    },
    {
     "data": {
      "text/plain": [
       "[<matplotlib.lines.Line2D at 0x7f92740c6f10>]"
      ]
     },
     "execution_count": 175,
     "metadata": {},
     "output_type": "execute_result"
    },
    {
     "data": {
      "text/plain": [
       "Text(0.5, 0, 'Angle [rad]')"
      ]
     },
     "execution_count": 175,
     "metadata": {},
     "output_type": "execute_result"
    },
    {
     "data": {
      "text/plain": [
       "Text(0, 0.5, 'sin(x)')"
      ]
     },
     "execution_count": 175,
     "metadata": {},
     "output_type": "execute_result"
    },
    {
     "data": {
      "text/plain": [
       "(-0.04992437596248095,\n",
       " 1.0498957049455557,\n",
       " 0.05707853458163033,\n",
       " 0.8907624646169474)"
      ]
     },
     "execution_count": 175,
     "metadata": {},
     "output_type": "execute_result"
    },
    {
     "data": {
      "image/png": "[encoded data removed]",
      "text/plain": [
       "<Figure size 432x288 with 1 Axes>"
      ]
     },
     "metadata": {
      "needs_background": "light"
     },
     "output_type": "display_data"
    }
   ],
   "source": [
    "import matplotlib.pyplot as plt\n",
    "\n",
    "pred = model.predict(X)\n",
    "\n",
    "plt.plot(X, y, 'r-')\n",
    "plt.plot(X, pred, 'b--')\n",
    "\n",
    "\n",
    "plt.xlabel('Angle [rad]')\n",
    "plt.ylabel('sin(x)')\n",
    "plt.axis('tight')\n",
    "plt.show()"
   ]
  },
  {
   "cell_type": "markdown",
   "metadata": {},
   "source": [
    "I am not saying it is perfect but it is getting very close."
   ]
  }
 ],
 "metadata": {
  "accelerator": "GPU",
  "colab": {
   "collapsed_sections": [],
   "name": "funny_function_approx_NN.ipynb",
   "provenance": []
  },
  "kernelspec": {
   "display_name": "Python 3",
   "language": "python",
   "name": "python3"
  },
  "language_info": {
   "codemirror_mode": {
    "name": "ipython",
    "version": 3
   },
   "file_extension": ".py",
   "mimetype": "text/x-python",
   "name": "python",
   "nbconvert_exporter": "python",
   "pygments_lexer": "ipython3",
   "version": "3.8.5"
  }
 },
 "nbformat": 4,
 "nbformat_minor": 1
}
